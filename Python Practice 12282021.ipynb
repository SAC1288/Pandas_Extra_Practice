{
 "cells": [
  {
   "cell_type": "code",
   "execution_count": 1,
   "id": "dfda377b",
   "metadata": {},
   "outputs": [],
   "source": [
    "import random\n"
   ]
  },
  {
   "cell_type": "code",
   "execution_count": 2,
   "id": "6f09f562",
   "metadata": {},
   "outputs": [
    {
     "data": {
      "text/plain": [
       "[3,\n",
       " 5,\n",
       " 7,\n",
       " 9,\n",
       " 11,\n",
       " 13,\n",
       " 15,\n",
       " 17,\n",
       " 19,\n",
       " 21,\n",
       " 23,\n",
       " 25,\n",
       " 27,\n",
       " 29,\n",
       " 31,\n",
       " 33,\n",
       " 35,\n",
       " 37,\n",
       " 39,\n",
       " 41,\n",
       " 43,\n",
       " 45,\n",
       " 47,\n",
       " 49,\n",
       " 51,\n",
       " 53,\n",
       " 55,\n",
       " 57,\n",
       " 59,\n",
       " 61,\n",
       " 63,\n",
       " 65,\n",
       " 67,\n",
       " 69,\n",
       " 71,\n",
       " 73,\n",
       " 75,\n",
       " 77,\n",
       " 79,\n",
       " 81,\n",
       " 83,\n",
       " 85,\n",
       " 87,\n",
       " 89,\n",
       " 91,\n",
       " 93,\n",
       " 95,\n",
       " 97,\n",
       " 99]"
      ]
     },
     "execution_count": 2,
     "metadata": {},
     "output_type": "execute_result"
    }
   ],
   "source": [
    "#Prime number gegnerator\n",
    "primes = []\n",
    "upto = 100\n",
    "for n in range (2, upto + 1):\n",
    "    if n % 2 != 0:\n",
    "        primes.append(n)\n",
    "\n",
    "primes"
   ]
  },
  {
   "cell_type": "code",
   "execution_count": 5,
   "id": "6073e18c",
   "metadata": {},
   "outputs": [
    {
     "name": "stdout",
     "output_type": "stream",
     "text": [
      "Pick rock, paper, or scissorspaper\n",
      "0\n",
      "1\n",
      "You lose!\n"
     ]
    }
   ],
   "source": [
    "#rock, paper, scissors game\n",
    "\n",
    "choice_list = {\"rock\": -1, \"paper\": 0, \"scissors\": 1}\n",
    "\n",
    "user_input = input(\"Pick rock, paper, or scissors\")\n",
    "\n",
    "user_choice = choice_list[user_input]\n",
    "comp_choice = choice_list[random.choice([\"rock\", \"paper\", \"scissors\"])]\n",
    "win_condition = user_choice - comp_choice\n",
    "\n",
    "print(user_choice)\n",
    "print(comp_choice)\n",
    "\n",
    "if win_condition == any([-2, 1]):\n",
    "    print(\"You win!\")\n",
    "elif win_condition == 0:\n",
    "    print(\"You tied!\")\n",
    "else:\n",
    "    print(\"You lose!\")"
   ]
  },
  {
   "cell_type": "code",
   "execution_count": 10,
   "id": "227948b5",
   "metadata": {},
   "outputs": [
    {
     "name": "stdout",
     "output_type": "stream",
     "text": [
      "What number of the day of the week is it?9\n",
      "Error! You need to pick a number from 0 - 6!\n"
     ]
    }
   ],
   "source": [
    "user_input = input(\"What number of the day of the week is it?\")\n",
    "\n",
    "if 1<= int(user_input) <= 5:\n",
    "    print(\"It is a Weekday!\")\n",
    "elif int(user_input) == 6:\n",
    "    print(\"It is a Saturday!\")\n",
    "elif int(user_input) == 0:\n",
    "    print(\"It is a Sunday!\")\n",
    "else:\n",
    "    print(\"Error! You need to pick a number from 0 - 6!\")"
   ]
  },
  {
   "cell_type": "code",
   "execution_count": null,
   "id": "35285266",
   "metadata": {},
   "outputs": [],
   "source": []
  }
 ],
 "metadata": {
  "kernelspec": {
   "display_name": "Python 3",
   "language": "python",
   "name": "python3"
  },
  "language_info": {
   "codemirror_mode": {
    "name": "ipython",
    "version": 3
   },
   "file_extension": ".py",
   "mimetype": "text/x-python",
   "name": "python",
   "nbconvert_exporter": "python",
   "pygments_lexer": "ipython3",
   "version": "3.8.8"
  }
 },
 "nbformat": 4,
 "nbformat_minor": 5
}
